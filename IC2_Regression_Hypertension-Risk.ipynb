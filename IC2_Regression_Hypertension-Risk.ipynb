{
 "cells": [
  {
   "cell_type": "markdown",
   "id": "1f86ee5f",
   "metadata": {},
   "source": [
    "# Machine Learning Regression for early Hypertension risk detection.\n",
    "\n",
    "By predicting blood pressure from lifestyle and health data we can identify individuals at risk of hypertension earlier. This enables proactive prevention strategies such as tailored nutrition, exercise and stress management, which reduce the long-term burden of cardiovascular disease. In line with **SDG 3** *(Good Health and Well-being*) this approach promotes healthier lives, lowers healthcare costs and supports more sustainable health systems.\n"
   ]
  },
  {
   "cell_type": "markdown",
   "id": "4e100abf",
   "metadata": {},
   "source": [
    "## 1.0 Loading, cleaning and feature engineering"
   ]
  },
  {
   "cell_type": "markdown",
   "id": "df0e04eb",
   "metadata": {},
   "source": [
    "### 1.1 Loading the dataset\n",
    "First thing we are going to do is load the dataset into a SQL database and print the first 5 rows so we get a bit more insight in the data. "
   ]
  },
  {
   "cell_type": "code",
   "execution_count": 50,
   "id": "db9c5be2",
   "metadata": {},
   "outputs": [
    {
     "name": "stdout",
     "output_type": "stream",
     "text": [
      "   survey_code  age  gender      height     weight        bmi  bmi_estimated  \\\n",
      "0            1   56    Male  173.416872  56.886640  18.915925      18.915925   \n",
      "1            2   69  Female  163.207380  97.799859  36.716278      36.716278   \n",
      "2            3   46    Male  177.281966  80.687562  25.673050      25.673050   \n",
      "3            4   32  Female  172.101255  63.142868  21.318480      21.318480   \n",
      "4            5   60  Female  163.608816  40.000000  14.943302      14.943302   \n",
      "\n",
      "   bmi_scaled  bmi_corrected  waist_size  ...  sunlight_exposure  \\\n",
      "0   56.747776      18.989117   72.165130  ...               High   \n",
      "1  110.148833      36.511417   85.598889  ...               High   \n",
      "2   77.019151      25.587429   90.295030  ...               High   \n",
      "3   63.955440      21.177109  100.504211  ...               High   \n",
      "4   44.829907      14.844299   69.021150  ...               High   \n",
      "\n",
      "   meals_per_day  caffeine_intake  family_history  pet_owner  \\\n",
      "0              5         Moderate              No        Yes   \n",
      "1              5             High             Yes         No   \n",
      "2              4         Moderate              No         No   \n",
      "3              1             None              No        Yes   \n",
      "4              1             High             Yes        Yes   \n",
      "\n",
      "   electrolyte_level gene_marker_flag  environmental_risk_score  \\\n",
      "0                  0              1.0                       5.5   \n",
      "1                  0              1.0                       5.5   \n",
      "2                  0              1.0                       5.5   \n",
      "3                  0              1.0                       5.5   \n",
      "4                  0              1.0                       5.5   \n",
      "\n",
      "   daily_supplement_dosage   target  \n",
      "0                -2.275502  healthy  \n",
      "1                 6.239340  healthy  \n",
      "2                 5.423737  healthy  \n",
      "3                 8.388611  healthy  \n",
      "4                 0.332622  healthy  \n",
      "\n",
      "[5 rows x 48 columns]\n"
     ]
    }
   ],
   "source": [
    "import pandas as pd\n",
    "import sqlite3\n",
    "\n",
    "# Load CSV into pandas DataFrame\n",
    "csv_path = \"Data/health_lifestyle_classification.csv\"\n",
    "df = pd.read_csv(csv_path)\n",
    "\n",
    "# Create a SQLite database connection\n",
    "conn = sqlite3.connect(\"health_data.db\")\n",
    "\n",
    "# Write DataFrame into a SQL table\n",
    "df.to_sql(\"health\", conn, if_exists=\"replace\", index=False)\n",
    "\n",
    "# Example query: select first 5 rows\n",
    "query = \"SELECT * FROM health LIMIT 5;\"\n",
    "result = pd.read_sql(query, conn)\n",
    "print(result)\n"
   ]
  },
  {
   "cell_type": "markdown",
   "id": "f5947232",
   "metadata": {},
   "source": [
    "### 1.2 Show data types\n",
    "Then we are going to check which datatypes we are dealing with to see what we need to drop, change or feature engineer."
   ]
  },
  {
   "cell_type": "code",
   "execution_count": 51,
   "id": "94dfd78a",
   "metadata": {},
   "outputs": [
    {
     "name": "stdout",
     "output_type": "stream",
     "text": [
      "survey_code                   int64\n",
      "age                           int64\n",
      "gender                       object\n",
      "height                      float64\n",
      "weight                      float64\n",
      "bmi                         float64\n",
      "bmi_estimated               float64\n",
      "bmi_scaled                  float64\n",
      "bmi_corrected               float64\n",
      "waist_size                  float64\n",
      "blood_pressure              float64\n",
      "heart_rate                  float64\n",
      "cholesterol                 float64\n",
      "glucose                     float64\n",
      "insulin                     float64\n",
      "sleep_hours                 float64\n",
      "sleep_quality                object\n",
      "work_hours                  float64\n",
      "physical_activity           float64\n",
      "daily_steps                 float64\n",
      "calorie_intake              float64\n",
      "sugar_intake                float64\n",
      "alcohol_consumption          object\n",
      "smoking_level                object\n",
      "water_intake                float64\n",
      "screen_time                 float64\n",
      "stress_level                  int64\n",
      "mental_health_score           int64\n",
      "mental_health_support        object\n",
      "education_level              object\n",
      "job_type                     object\n",
      "occupation                   object\n",
      "income                      float64\n",
      "diet_type                    object\n",
      "exercise_type                object\n",
      "device_usage                 object\n",
      "healthcare_access            object\n",
      "insurance                    object\n",
      "sunlight_exposure            object\n",
      "meals_per_day                 int64\n",
      "caffeine_intake              object\n",
      "family_history               object\n",
      "pet_owner                    object\n",
      "electrolyte_level             int64\n",
      "gene_marker_flag            float64\n",
      "environmental_risk_score    float64\n",
      "daily_supplement_dosage     float64\n",
      "target                       object\n",
      "dtype: object\n"
     ]
    }
   ],
   "source": [
    "# Show data types\n",
    "print(df.dtypes)"
   ]
  },
  {
   "cell_type": "markdown",
   "id": "c9deda58",
   "metadata": {},
   "source": [
    "### 1.3 Drop columns we are not going to use \n",
    "We checked if any of the colums could give a data leakage. and which colums we don't need.\n",
    "Dropped all the colums with medical information because we aim to predict blood pressure without relying on clinical laboratory values that are typically measured at the same time.\n",
    "In the following index I descriped which columns I kept, which columns I dropped and which ones we are going to feature engineer in the following step: https://www.notion.so/Dataset-index-25598c6768cd8070a09ee67bdb12f3ca"
   ]
  },
  {
   "cell_type": "code",
   "execution_count": 52,
   "id": "31b9c6b4",
   "metadata": {},
   "outputs": [
    {
     "name": "stdout",
     "output_type": "stream",
     "text": [
      "Remaining columns: 35\n",
      "   age  gender        bmi  waist_size  blood_pressure  heart_rate  \\\n",
      "0   56    Male  18.915925   72.165130      118.264254   60.749825   \n",
      "1   69  Female  36.716278   85.598889      117.917986   66.463696   \n",
      "2   46    Male  25.673050   90.295030      123.073698   76.043212   \n",
      "3   32  Female  21.318480  100.504211      148.173453   68.781981   \n",
      "4   60  Female  14.943302   69.021150      150.613181   92.335358   \n",
      "\n",
      "   sleep_hours sleep_quality  work_hours  physical_activity  ...  \\\n",
      "0     6.475885          Fair    7.671313           0.356918  ...   \n",
      "1     8.428410          Good    9.515198           0.568219  ...   \n",
      "2     5.702164          Poor    5.829853           3.764406  ...   \n",
      "3     5.188316          Good    9.489693           0.889474  ...   \n",
      "4     7.912514          Good    7.275450           2.901608  ...   \n",
      "\n",
      "   device_usage  healthcare_access  insurance sunlight_exposure meals_per_day  \\\n",
      "0          High               Poor         No              High             5   \n",
      "1      Moderate           Moderate         No              High             5   \n",
      "2          High               Good        Yes              High             4   \n",
      "3           Low           Moderate         No              High             1   \n",
      "4           Low           Moderate        Yes              High             1   \n",
      "\n",
      "   caffeine_intake  family_history  pet_owner  environmental_risk_score  \\\n",
      "0         Moderate              No        Yes                       5.5   \n",
      "1             High             Yes         No                       5.5   \n",
      "2         Moderate              No         No                       5.5   \n",
      "3              NaN              No        Yes                       5.5   \n",
      "4             High             Yes        Yes                       5.5   \n",
      "\n",
      "  daily_supplement_dosage  \n",
      "0               -2.275502  \n",
      "1                6.239340  \n",
      "2                5.423737  \n",
      "3                8.388611  \n",
      "4                0.332622  \n",
      "\n",
      "[5 rows x 35 columns]\n"
     ]
    }
   ],
   "source": [
    "# Define columns to drop\n",
    "drop_columns = [\n",
    "    \"survey_code\",\n",
    "    \"target\",\n",
    "    \"bmi_estimated\",\n",
    "    \"bmi_scaled\",\n",
    "    \"bmi_corrected\",\n",
    "    \"weight\",\n",
    "    \"height\",\n",
    "    \"cholesterol\",\n",
    "    \"glucose\",\n",
    "    \"insulin\",\n",
    "    \"occupation\",\n",
    "    \"electrolyte_level\",\n",
    "    \"gene_marker_flag\"\n",
    "]\n",
    "\n",
    "# Drop the columns\n",
    "df_cleaned = df.drop(columns=drop_columns, errors=\"ignore\")\n",
    "\n",
    "print(\"Remaining columns:\", df_cleaned.shape[1])\n",
    "print(df_cleaned.head())"
   ]
  },
  {
   "cell_type": "markdown",
   "id": "9661068a",
   "metadata": {},
   "source": [
    "### 1.4 Feature engineering"
   ]
  },
  {
   "cell_type": "code",
   "execution_count": 53,
   "id": "6a60123b",
   "metadata": {},
   "outputs": [
    {
     "name": "stdout",
     "output_type": "stream",
     "text": [
      "   mental_health_support  insurance  family_history  education_level  \\\n",
      "0                      0          0               0                3   \n",
      "1                      0          0               1                1   \n",
      "2                      0          1               0                2   \n",
      "3                      0          0               0                2   \n",
      "4                      1          1               1                2   \n",
      "\n",
      "   job_type  diet_type  exercise_type  device_usage  healthcare_access  \\\n",
      "0         4          2              2             2                  0   \n",
      "1         2          2              0             1                  1   \n",
      "2         2          2              0             2                  2   \n",
      "3         1          3              1             0                  1   \n",
      "4         5          2              3             0                  1   \n",
      "\n",
      "   sunlight_exposure  caffeine_intake  \n",
      "0                  2                2  \n",
      "1                  2                3  \n",
      "2                  2                2  \n",
      "3                  2                2  \n",
      "4                  2                3  \n"
     ]
    }
   ],
   "source": [
    "import pandas as pd\n",
    "from sklearn.preprocessing import LabelEncoder, OrdinalEncoder\n",
    "\n",
    "# Binary encoding (Yes/No → 0/1)\n",
    "\n",
    "binary_cols = [\"mental_health_support\", \"insurance\", \"family_history\"]\n",
    "for col in binary_cols:\n",
    "    if col in df.columns:\n",
    "        df[col] = df[col].map({\"No\": 0, \"Yes\": 1}).astype(\"Int64\")\n",
    "\n",
    "# Categorical encoding (unordered categories)\n",
    "categorical_cols = [\"education_level\", \"job_type\", \"diet_type\", \"exercise_type\"]\n",
    "for col in categorical_cols:\n",
    "    if col in df.columns:\n",
    "        le = LabelEncoder()\n",
    "        df[col] = le.fit_transform(df[col].astype(str))\n",
    "\n",
    "\n",
    "# Ordinal encoding (ordered categories)\n",
    "ordinal_mappings = {\n",
    "    \"device_usage\": [\"Low\", \"Moderate\", \"High\"],\n",
    "    \"healthcare_access\": [\"Poor\", \"Moderate\", \"Good\"],\n",
    "    \"sunlight_exposure\": [\"Low\", \"Moderate\", \"High\"],\n",
    "    \"caffeine_intake\": [\"None\", \"Low\", \"Moderate\", \"High\"]\n",
    "}\n",
    "\n",
    "for col, order in ordinal_mappings.items():\n",
    "    if col in df.columns:\n",
    "        # Clean: strip spaces, unify capitalization\n",
    "        s = df[col].astype(\"string\").str.strip().str.title()\n",
    "\n",
    "        # Impute missing values with the most frequent category\n",
    "        if s.isna().any():\n",
    "            mode_val = s.mode(dropna=True)\n",
    "            fill_val = mode_val.iloc[0] if not mode_val.empty else order[0]\n",
    "            s = s.fillna(fill_val)\n",
    "\n",
    "        # Encode with fixed order; unseen categories → -1 (safe fallback)\n",
    "        enc = OrdinalEncoder(\n",
    "            categories=[order],\n",
    "            handle_unknown=\"use_encoded_value\",\n",
    "            unknown_value=-1\n",
    "        )\n",
    "        df[col] = enc.fit_transform(s.to_frame()).astype(\"int64\")\n",
    "\n",
    "# Preview transformed columns\n",
    "cols_to_show = binary_cols + categorical_cols + list(ordinal_mappings.keys())\n",
    "print(df[cols_to_show].head())\n"
   ]
  },
  {
   "cell_type": "markdown",
   "id": "e7094e40",
   "metadata": {},
   "source": [
    "#### Feature Encoding Reference\n",
    "\n",
    "| Feature               | Type            | Mapping / Notes                                                                 |\n",
    "|------------------------|-----------------|---------------------------------------------------------------------------------|\n",
    "| mental_health_support | Binary          | 0 = No, 1 = Yes                                                                 |\n",
    "| insurance             | Binary          | 0 = No, 1 = Yes                                                                 |\n",
    "| family_history        | Binary          | 0 = No, 1 = Yes                                                                 |\n",
    "| device_usage          | Ordinal         | 0 = Low, 1 = Moderate, 2 = High                                                 |\n",
    "| healthcare_access     | Ordinal         | 0 = Poor, 1 = Moderate, 2 = Good                                                |\n",
    "| sunlight_exposure     | Ordinal         | 0 = Low, 1 = Moderate, 2 = High                                                 |\n",
    "| caffeine_intake       | Ordinal         | 0 = None, 1 = Low, 2 = Moderate, 3 = High                                       |\n",
    "| education_level       | Categorical     | Label Encoded → depends on encoder.classes_ (e.g., High School, Bachelor, etc.) |\n",
    "| job_type              | Categorical     | Label Encoded → depends on encoder.classes_ (e.g., Office, Tech, Labor, etc.)   |\n",
    "| diet_type             | Categorical     | Label Encoded → depends on encoder.classes_ (e.g., Vegan, Vegetarian, Mixed)    |\n",
    "| exercise_type         | Categorical     | Label Encoded → depends on encoder.classes_ (e.g., Cardio, Strength, Mixed)     |\n"
   ]
  },
  {
   "cell_type": "markdown",
   "id": "b7646004",
   "metadata": {},
   "source": [
    "### 1.4 Check for missing values"
   ]
  },
  {
   "cell_type": "code",
   "execution_count": 54,
   "id": "ca83afd5",
   "metadata": {},
   "outputs": [
    {
     "name": "stdout",
     "output_type": "stream",
     "text": [
      "Missing values per column:\n",
      "alcohol_consumption    42387\n",
      "insulin                15836\n",
      "heart_rate             14003\n",
      "gene_marker_flag       10474\n",
      "income                  8470\n",
      "daily_steps             8329\n",
      "blood_pressure          7669\n",
      "dtype: int64\n",
      "\n",
      "Percentage missing per column:\n",
      "alcohol_consumption    42.387\n",
      "insulin                15.836\n",
      "heart_rate             14.003\n",
      "gene_marker_flag       10.474\n",
      "income                  8.470\n",
      "daily_steps             8.329\n",
      "blood_pressure          7.669\n",
      "dtype: float64\n"
     ]
    }
   ],
   "source": [
    "# Check missing values\n",
    "missing = df.isnull().sum()\n",
    "\n",
    "# Show only columns with missing values\n",
    "missing = missing[missing > 0].sort_values(ascending=False)\n",
    "\n",
    "print(\"Missing values per column:\")\n",
    "print(missing)\n",
    "\n",
    "# Optional: show percentage of missing values\n",
    "missing_pct = (df.isnull().mean() * 100).sort_values(ascending=False)\n",
    "print(\"\\nPercentage missing per column:\")\n",
    "print(missing_pct[missing_pct > 0])"
   ]
  },
  {
   "cell_type": "markdown",
   "id": "0df8c580",
   "metadata": {},
   "source": [
    "## 2.0 Visualizations to get a better understanding of the data\n",
    "In this step we're going to make several visualizations to get a better understanding of the data and dubbel check if we missed something in step 1 "
   ]
  }
 ],
 "metadata": {
  "kernelspec": {
   "display_name": "Python 3",
   "language": "python",
   "name": "python3"
  },
  "language_info": {
   "codemirror_mode": {
    "name": "ipython",
    "version": 3
   },
   "file_extension": ".py",
   "mimetype": "text/x-python",
   "name": "python",
   "nbconvert_exporter": "python",
   "pygments_lexer": "ipython3",
   "version": "3.13.5"
  }
 },
 "nbformat": 4,
 "nbformat_minor": 5
}
